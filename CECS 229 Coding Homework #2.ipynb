{
 "cells": [
  {
   "cell_type": "markdown",
   "metadata": {},
   "source": [
    "# CECS 229 Coding Homework #2\n",
    "\n",
    "### Submission Instructions:\n",
    "\n",
    "Complete the following questions.  Include your name on this notebook file name and submit it to the dropbox by **Wednesday, 10/17 @8 am.**\n"
   ]
  },
  {
   "cell_type": "markdown",
   "metadata": {},
   "source": [
    "#### Problem 1:\n",
    "\n",
    "Show that the set of complex nubmers, $\\mathbb{C}$ is a field.\n",
    "\n",
    "*Ans:*\n",
    "\n",
    "1. Closure: $\\forall x, y \\in \\mathbb{Z} \\hspace{0.25cm} x+y \\in \\mathbb{C}$"
   ]
  },
  {
   "cell_type": "markdown",
   "metadata": {},
   "source": [
    "#### Problem 2: \n",
    "The \"left eye\" of the set $S$ of complex numbers discussed in lecture is located at $2+2i$.  \n",
    "\n",
    "a) For what value of $z_0$ does the translation $f(z) = z + z_0$ move the left eye to the origin?  Explain your reasoning.\n",
    "\n",
    "*Ans:*\n",
    "\n",
    "b) Verify your answer by plotting this translation.  Include your code below:"
   ]
  },
  {
   "cell_type": "code",
   "execution_count": null,
   "metadata": {
    "collapsed": true
   },
   "outputs": [],
   "source": []
  },
  {
   "cell_type": "markdown",
   "metadata": {},
   "source": [
    "#### Problem 3:\n",
    "Create a new plot in which the points of $S$ are rotated by $90^{\\circ}$ and scaled by $\\frac{1}{2}$.  To do this use a single comprehension in which the points of $S$ are multiplied by a single complex number."
   ]
  },
  {
   "cell_type": "code",
   "execution_count": null,
   "metadata": {
    "collapsed": true
   },
   "outputs": [],
   "source": []
  },
  {
   "cell_type": "markdown",
   "metadata": {},
   "source": [
    "#### Problem 4:\n",
    "\n",
    "Use a comprehension to create a new plot in which the points of $S$ are rotated by $90^{\\circ}$, scaled by $\\frac{1}{2}$, then shifted down 1 unit and right 2 units.  The comprehension must take each point in $S$, multiply it by a single complex number and added to another complex number."
   ]
  },
  {
   "cell_type": "code",
   "execution_count": null,
   "metadata": {
    "collapsed": true
   },
   "outputs": [],
   "source": []
  },
  {
   "cell_type": "markdown",
   "metadata": {},
   "source": [
    "#### Problem 5:\n",
    "\n",
    "Create a function `translate(S, z0)` that translates the points in the input set $S$ by $z_0 = a_0 + b_0 i$.  The function should satisfy the following:\n",
    "\n",
    "1. INPUT: \n",
    "    * `S` - set S\n",
    "    * `z0` - complex number\n",
    "2. OUT:\n",
    "    * `T` - set T consisting of points in S translated by $z_0$"
   ]
  },
  {
   "cell_type": "code",
   "execution_count": null,
   "metadata": {
    "collapsed": true
   },
   "outputs": [],
   "source": []
  },
  {
   "cell_type": "markdown",
   "metadata": {},
   "source": [
    "#### Problem 6:\n",
    "\n",
    "Create a function `scale_rotate(S, alpha, tau)` that rotates the points in the input set $S$ by `tau` radians, and scales it by a factor of `alpha`. The function should throw an error message if the input `alpha` is negative.\n",
    "\n",
    "INPUT:\n",
    "        \n",
    "        * S - set of points\n",
    "        * alpha - positive real number\n",
    "        * tau - any real number (radians)\n",
    "        \n",
    "OUTPUT: a set of points, scaled and rotated"
   ]
  },
  {
   "cell_type": "code",
   "execution_count": null,
   "metadata": {},
   "outputs": [],
   "source": []
  }
 ],
 "metadata": {
  "anaconda-cloud": {},
  "kernelspec": {
   "display_name": "Python 3",
   "language": "python",
   "name": "python3"
  },
  "language_info": {
   "codemirror_mode": {
    "name": "ipython",
    "version": 3
   },
   "file_extension": ".py",
   "mimetype": "text/x-python",
   "name": "python",
   "nbconvert_exporter": "python",
   "pygments_lexer": "ipython3",
   "version": "3.6.5"
  }
 },
 "nbformat": 4,
 "nbformat_minor": 1
}
